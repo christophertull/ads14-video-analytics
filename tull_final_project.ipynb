{
 "metadata": {
  "name": "",
  "signature": "sha256:a4b3468b0e82baaa531cfe0228df5fe2b04150a09664182c216782afd142a314"
 },
 "nbformat": 3,
 "nbformat_minor": 0,
 "worksheets": [
  {
   "cells": [
    {
     "cell_type": "markdown",
     "metadata": {},
     "source": [
      "# IMAGE PROCESSING FINAL PROJECT\n",
      "\n",
      "### Due December 15, 2014\n",
      "\n",
      "You may discuss and work with whomever you like, but each person should submit their own code.\n",
      "\n",
      "---"
     ]
    },
    {
     "cell_type": "markdown",
     "metadata": {},
     "source": [
      "## Indexing and manipulating images"
     ]
    },
    {
     "cell_type": "markdown",
     "metadata": {},
     "source": [
      "Consider the following operations:"
     ]
    },
    {
     "cell_type": "code",
     "collapsed": false,
     "input": [
      "xarr = np.arange(50)\n",
      "print(\"xarr = {0}\\n\".format(xarr))\n",
      "print(\"xarr[::3] = {0}\\n\".format(xarr[::3]))\n",
      "print(\"xarr[::-1] = {0}\\n\".format(xarr[::-1]))\n",
      "print(\"xarr[4:31:5] = {0}\\n\".format(xarr[4:31:5]))"
     ],
     "language": "python",
     "metadata": {},
     "outputs": [
      {
       "output_type": "stream",
       "stream": "stdout",
       "text": [
        "xarr = [ 0  1  2  3  4  5  6  7  8  9 10 11 12 13 14 15 16 17 18 19 20 21 22 23 24\n",
        " 25 26 27 28 29 30 31 32 33 34 35 36 37 38 39 40 41 42 43 44 45 46 47 48 49]\n",
        "\n",
        "xarr[::3] = [ 0  3  6  9 12 15 18 21 24 27 30 33 36 39 42 45 48]\n",
        "\n",
        "xarr[::-1] = [49 48 47 46 45 44 43 42 41 40 39 38 37 36 35 34 33 32 31 30 29 28 27 26 25\n",
        " 24 23 22 21 20 19 18 17 16 15 14 13 12 11 10  9  8  7  6  5  4  3  2  1  0]\n",
        "\n",
        "xarr[4:31:5] = [ 4  9 14 19 24 29]\n",
        "\n"
       ]
      }
     ],
     "prompt_number": 1
    },
    {
     "cell_type": "markdown",
     "metadata": {},
     "source": [
      "Your task for this problem is to write a python code called image_manipulation.py which can be executed by typing \n",
      "\n",
      "    python image_manipulation.py\n",
      "    \n",
      "in the main ads14 directory.\n",
      "\n",
      "This code should first import,\n",
      "\n",
      "    import os\n",
      "    import sys\n",
      "    import numpy as np\n",
      "    import matplotlib.pyplot as plt\n",
      "    import scipy.ndimage as nd\n",
      "    from scipy.ndimage.filters import median_filter as mf\n",
      "\n",
      "and then:\n",
      "\n",
      "1.) Perform the following operations in **one line of code** (points will be deducted for each extra line of code used, and using semicolons does not count)\n",
      "\n",
      "- read in the Mona Lisa image\n",
      "- select every other pixel\n",
      "- invert the color values so that red is blue and blue is red\n",
      "- convert to a negative of the image\n",
      "- convert to floating point and smooth by a median filter of width 8 in row, 2 in column, and 1 in color\n",
      "- clip to [0,255]\n",
      "- convert back to numpy unsigned 8-bit integers\n",
      "\n",
      "2.) Display the result of 1.) in a matplotlib window in which the image completely fills the window, the axis is turned off, and *the figure window title* (**not the axis title!**) is set to \"modified Mona Lisa\" (nb, we haven't done that last one in class, but as a hint, there is a method for it in a matplotlib figure.canvas object)"
     ]
    },
    {
     "cell_type": "code",
     "collapsed": false,
     "input": [
      "import os, sys, time\n",
      "import numpy as np\n",
      "import matplotlib.pyplot as plt\n",
      "import scipy.ndimage as nd\n",
      "from scipy.ndimage.filters import median_filter as mf\n",
      "from collections import Counter"
     ],
     "language": "python",
     "metadata": {},
     "outputs": [],
     "prompt_number": 187
    },
    {
     "cell_type": "code",
     "collapsed": false,
     "input": [
      "dpath = 'images'\n",
      "fname = 'ml.jpg'\n",
      "infile = os.path.join(dpath,fname)\n",
      "\n",
      "#fancy image read line\n",
      "img_ml = np.uint8( mf( np.float64(255-nd.imread(infile)[::2,::2,::-1]), (8,2,1)) )\n",
      "\n",
      "#display the image\n",
      "ysize = 9.\n",
      "xsize = ysize*float(img_ml.shape[1])/float(img_ml.shape[0])\n",
      "\n",
      "plt.ion()\n",
      "fig, ax = plt.subplots(figsize=(xsize,ysize))\n",
      "fig.subplots_adjust(0,0,1,1)\n",
      "fig.canvas.set_window_title('modified Mona Lisa')\n",
      "ax.axis('off')\n",
      "im = ax.imshow(img_ml)\n",
      "fig.canvas.draw()\n",
      "plt.show()"
     ],
     "language": "python",
     "metadata": {},
     "outputs": [],
     "prompt_number": 3
    },
    {
     "cell_type": "markdown",
     "metadata": {},
     "source": [
      "---"
     ]
    },
    {
     "cell_type": "markdown",
     "metadata": {},
     "source": [
      "## Image exploration widget(s)"
     ]
    },
    {
     "cell_type": "markdown",
     "metadata": {},
     "source": [
      "Write a python code called image_exploration_part1.py to be exceuted in the main ads14 directory as \n",
      "\n",
      "    python image_exploration_part1.py images mona_lisa.jpg\n",
      "\n",
      "where the first argument is the location of the image and the second is the name of the image (this will be graded by testing it on images which **aren't** the Mona Lisa image, so do not hard code the path or file name!  If you get stuck, command line arguments like images and mona_lisa.jpg above are accessed via sys.argv).\n",
      "\n",
      "The code should do the following:\n",
      "\n",
      "1. display the image in a figure (again, taking up the full window frame and setting the title of the window to be the filename)\n",
      "\n",
      "2. in a separate window display three panels, in the first panel plot the histogram of the red channel using red bars with range [0,255] and 256 bins, in the second panel, plot the histogram of the green channel using green bars range [0,255] and 256 bins, and in the third panel plot the histogram of the blue channel using blue bars with range [0,255] and 256 bins.\n",
      "\n",
      "3. in an infinite loop, use the ginput() function to select the upper left and lower right corners of a region of the image\n",
      "\n",
      "4. update the histograms for each color channel to only display the values within the region selected in 3\n",
      "\n",
      "5. double clicking (i.e., clicking the same pixel twice) should reset the histograms to be for those of the full image\n",
      "\n",
      "<br>\n",
      "\n",
      "Now, write a python code called image_exploration_part2.py to be exceuted in the main ads14 directory as \n",
      "\n",
      "    python image_exploration_part2.py images mona_lisa.jpg\n",
      "\n",
      "where, again, the first argument is the location of the image and the second is the name of the image.\n",
      "\n",
      "This code should do the following:\n",
      "\n",
      "1. step 1 above\n",
      "\n",
      "2. step 2 above\n",
      "\n",
      "3. in an infitinte loop, use the ginput() function to select three values from the histogram panels (one from each histogram)\n",
      "\n",
      "4. draw highlighted regions around the selected values (see the \"Filtering re-explained\" in the ipython notebook dobler_112414_part1.ipynb for drawing semi-transparent rectangles which span the full y-axis) in each histogram.  The highlighting should be centered on the selected value and have a width of 10\n",
      "\n",
      "5. darken (by 75%) all pixels in the image which fall outside of +/- 5 from the selected values in 3.\n",
      "\n",
      "6. the user should be able to repeat step 3 (which triggers 4 and 5) as many times as s/he wishes\n",
      "\n",
      "<br>\n",
      "\n",
      "Bonus points will be given if you can combine parts 1 and 2 into a single code.  Note though, if you try this, simply using ginput() for both won't work..."
     ]
    },
    {
     "cell_type": "code",
     "collapsed": true,
     "input": [
      "def plotHist(sample, fig, ax):    \n",
      "    #clear the axes and replot the histogram\n",
      "    [axis.cla() for axis in ax]\n",
      "    ax[0].hist(sample[:,:,RED].flatten(),bins=256,range=[0,255],color='r', edgecolor='none', normed=True)\n",
      "    ax[1].hist(sample[:,:,GREEN].flatten(),bins=256,range=[0,255],color='g', edgecolor='none', normed=True)\n",
      "    ax[2].hist(sample[:,:,BLUE].flatten(),bins=256,range=[0,255],color='b', edgecolor='none', normed=True)\n",
      "    [axis.set_yticklabels('') for axis in ax]\n",
      "    ax[0].set_title('Red')\n",
      "    ax[1].set_title('Green')\n",
      "    ax[2].set_title('Blue')\n",
      "    fig.canvas.draw()\n",
      "    \n",
      "    \n",
      "def handleClick1(xx,yy):\n",
      "    global CLICK_BUF1\n",
      "    global fig2\n",
      "    global ax2\n",
      "    global histIsRunning\n",
      "    print 'BUFFER', CLICK_BUF1\n",
      "    \n",
      "    if histIsRunning == False:\n",
      "        \n",
      "    \n",
      "        #if buffer is full, clear it\n",
      "        if(len(CLICK_BUF1) >= 2):\n",
      "            CLICK_BUF1 = []\n",
      "\n",
      "        #if not full, take ac\n",
      "        if(len(CLICK_BUF1) == 0):\n",
      "            x1,y1 = np.int16((xx,yy))\n",
      "            CLICK_BUF1.append((x1,y1))\n",
      "            print 'length is 0'\n",
      "        elif(len(CLICK_BUF1) == 1):\n",
      "            x1,y1 = CLICK_BUF1[0]\n",
      "            x2,y2 = np.int16((xx,yy))\n",
      "            \n",
      "            x1,x2 = min((x1,x2)), max((x1,x2))\n",
      "            y1,y2 = min((y1,y2)), max((y1,y2))\n",
      "            \n",
      "            if (x1==x2) and (y1==y2):\n",
      "                print 'AreSAME'\n",
      "                histIsRunning = True\n",
      "                plotHist(img, fig2, ax2)\n",
      "                histIsRunning = False\n",
      "            elif( (x1<x2) and (y1<y2) ):\n",
      "                CLICK_BUF1.append((x2,y2))\n",
      "                print 'diffffffffffffffferent'\n",
      "                histIsRunning = True\n",
      "                #create mask\n",
      "#                 mask = ( (colInd>=x1)*(colInd<=x2) ) * ( (rowInd>=y1)*(rowInd<=y2) )\n",
      "#                 mask = np.dstack([mask]*3)\n",
      "                selection = img[y1:y2,x1:x2,:]\n",
      "                plotHist(selection, fig2, ax2)\n",
      "                \n",
      "                histIsRunning = False\n",
      "                CLICK_BUF1 = []\n",
      "                \n",
      "                \n",
      "def handleClick2(axis,xx):\n",
      "    global AX_DIC\n",
      "    global fig2\n",
      "    global ax2\n",
      "    global darkenIsRunning\n",
      "    xval = np.round(xx)\n",
      "    offset = 5\n",
      "    \n",
      "    #set the box\n",
      "    low =  max(0,xval-offset)\n",
      "    high = min(300,xval+offset)\n",
      "    try:\n",
      "        rng = AX_DIC[axis]\n",
      "        spn = rng.get_xy()\n",
      "        spn[:,0] = [low,low,high,high,low]\n",
      "        rng.set_xy(spn)\n",
      "    except KeyError:\n",
      "        rng = axis.axvspan(low,high,facecolor='lime',alpha=0.1)\n",
      "        \n",
      "    AX_DIC[axis] = (rng)\n",
      "    fig2.canvas.draw()\n",
      "    \n",
      "    if (len(AX_DIC.keys()) == 3) and darkenIsRunning == False:\n",
      "        \n",
      "        darkenIsRunning = True\n",
      "        print 'IN HERE DOING STUFF'\n",
      "        mask = np.ones(img.shape[:2])\n",
      "        coeff = 0.25*mask\n",
      "\n",
      "        #create mask\n",
      "        print len(ax2)\n",
      "        for i,ax in enumerate(ax2):\n",
      "            print 'MAKING MASK', i\n",
      "            rng = AX_DIC[ax]\n",
      "            low = rng.get_xy()[0][0]\n",
      "            high = rng.get_xy()[2][0]\n",
      "            print('low:',low,'high:',high)\n",
      "            layer = img[:,:,i]\n",
      "            mask = mask * (layer <= high) * (layer >= low) \n",
      "        \n",
      "        \n",
      "        coeff = coeff + 0.75*mask\n",
      "        coeff = np.dstack([coeff]*3)\n",
      "        darkenIsRunning = False\n",
      "        print np.sum(mask)\n",
      "        ax1.imshow(np.uint8(coeff*img))\n",
      "        fig1.canvas.draw()\n",
      "        \n",
      "        \n",
      "            \n",
      "            \n",
      "def onPicClick(event):\n",
      "    handleClick1(event.xdata,event.ydata)\n",
      "    \n",
      "def onHistClick(event):\n",
      "    handleClick2(event.inaxes,event.xdata)\n",
      "    print 'button=%d, x=%d, y=%d, xdata=%f, ydata=%f'%(\n",
      "        event.button, event.x, event.y, event.xdata, event.ydata)\n",
      "    \n",
      "    "
     ],
     "language": "python",
     "metadata": {},
     "outputs": [],
     "prompt_number": 12
    },
    {
     "cell_type": "code",
     "collapsed": false,
     "input": [
      "RED, GREEN, BLUE = (0,1,2)\n",
      "CLICK_BUF1 = []\n",
      "AX_DIC = {}\n",
      "histIsRunning = False\n",
      "darkenIsRunning = False\n",
      "\n",
      "dpath = 'images'\n",
      "fname = 'ml.jpg'\n",
      "infile = os.path.join(dpath,fname)\n",
      "img = nd.imread(infile)\n",
      "\n",
      "nrow, ncol = img.shape[:2]\n",
      "rowInd = np.arange(nrow*ncol).reshape(nrow,ncol) / ncol\n",
      "colInd = np.arange(nrow*ncol).reshape(nrow,ncol) % ncol\n",
      "ysize = 9.\n",
      "xsize = ysize*float(img.shape[1])/float(img.shape[0])\n",
      "\n",
      "plt.ion()\n",
      "fig1, ax1 = plt.subplots(num=1,figsize=(xsize,ysize))\n",
      "fig1.subplots_adjust(0,0,1,1)\n",
      "connectID1 = fig1.canvas.mpl_connect('button_press_event', onPicClick)\n",
      "\n",
      "fig1.canvas.set_window_title(fname)\n",
      "ax1.axis('off')\n",
      "im1 = ax1.imshow(img)\n",
      "fig1.canvas.draw()\n",
      "plt.show(False)\n",
      "\n",
      "\n",
      "fig2, ax2 = plt.subplots(1,3,num=2,figsize=[3*6,6])\n",
      "connectID2 = fig2.canvas.mpl_connect('button_press_event', onHistClick)\n",
      "plotHist(img, fig2, ax2)\n",
      "\n",
      "    \n"
     ],
     "language": "python",
     "metadata": {},
     "outputs": [
      {
       "output_type": "stream",
       "stream": "stdout",
       "text": [
        "BUFFER []\n",
        "length is 0\n",
        "BUFFER"
       ]
      },
      {
       "output_type": "stream",
       "stream": "stdout",
       "text": [
        " [(245, 161)]\n",
        "diffffffffffffffferent\n",
        "button=1, x=1032, y=160, xdata=66.250000, ydata=0.005412"
       ]
      },
      {
       "output_type": "stream",
       "stream": "stdout",
       "text": [
        "\n",
        "button=1, x=739, y=129, xdata=166.822917, ydata=0.002991"
       ]
      },
      {
       "output_type": "stream",
       "stream": "stdout",
       "text": [
        "\n",
        "IN HERE DOING STUFF"
       ]
      },
      {
       "output_type": "stream",
       "stream": "stdout",
       "text": [
        "\n",
        "3\n",
        "MAKING MASK 0\n",
        "('low:', 159.0, 'high:', 259.0)\n",
        "MAKING MASK 1\n",
        "('low:', 117.0, 'high:', 217.0)\n",
        "MAKING MASK"
       ]
      },
      {
       "output_type": "stream",
       "stream": "stdout",
       "text": [
        " 2\n",
        "('low:', 16.0, 'high:', 116.0)\n",
        "55824.0"
       ]
      },
      {
       "output_type": "stream",
       "stream": "stdout",
       "text": [
        "\n",
        "button=1, x=380, y=69, xdata=208.958333, ydata=0.000449"
       ]
      }
     ],
     "prompt_number": 10
    },
    {
     "cell_type": "markdown",
     "metadata": {},
     "source": [
      "---"
     ]
    },
    {
     "cell_type": "markdown",
     "metadata": {},
     "source": [
      "## Hand written digit recognition accuracy"
     ]
    },
    {
     "cell_type": "markdown",
     "metadata": {},
     "source": [
      "In class, I remarked that our hand written digit recognition method was not particularly good, but also had a hard time finding a case where it failed.  Let's find out how good it is.\n",
      "\n",
      "Write a code called regression_accuracy.py to be run in the ads14 directory so that it can be executed as\n",
      "\n",
      "    python regression_accuracy.py\n",
      "    \n",
      "The code should perform the regression that we did in class (where an image of a digit was regressed against the mean images of the 10 digits and the \"choice\" is made by selecting the highest regression coefficent) for **all** the images in the data set.  The outputs should be\n",
      "\n",
      "1. Ten plots, each with ten panels, showing the distribution of regression coefficients for that digit.  I.e., the plot for 3's should have ten panels showing the distribution of regression coefficients of known 3's against the 0's template, the 1's template, etc.<br><br>\n",
      "\n",
      "2. A text output listing the percentage of failures and the most common guess for those failures.  I.e. something like:\n",
      "\n",
      "    25% of 1's were incorrectly identified, the most common guess for those failures was 7<br>\n",
      "    27% of 2's were incorrectly identified, the most common guess for those failures was 4<br>\n",
      "    etc.<br><br>\n",
      "\n",
      "3. A thirty second animation showing some of the failures and their guesses (with a 1 second delay between frames) <br><br>\n",
      "\n",
      "4. The suggestion was made in class to include a uniform template as well to handle zero point offsets (as we did with the linear regression case).  Repeat step 2 including this uniform template with an output like,\n",
      "\n",
      "    Removing zero point offset:<br>\n",
      "    19% of 1's were incorrectly identified, the most common guess for those failures was 4<br>\n",
      "    16% of 2's were incorrectly identified, the most common guess for those failures was 9<br>\n",
      "    etc.<br><br>\n",
      "    \n",
      "**Bonus points:**<br>\n",
      "It was also pointed out in class that these are regression coefficients and not correlation coefficients which should be between -1 and 1.  To find the correlation coefficients, each image and template must have its mean subtracted and then be normalized by its standard deviation.  Write a code called correlation_accuracy.py to be run in the ads14 directory so that it can be executed as\n",
      "\n",
      "    python correlation_accuracy.py\n",
      "    \n",
      "which repeats steps 1-3 above but using correlation coefficients instead of regression coefficients."
     ]
    },
    {
     "cell_type": "code",
     "collapsed": false,
     "input": [
      "#------------------------------------------------------------\n",
      "#getCoeffsOLS()\n",
      "#------------------------------------------------------------\n",
      "def getCoeffsOLS(avgs,samp):\n",
      "    PT = avgs\n",
      "    P  = PT.transpose()\n",
      "    PTPinv = np.linalg.inv(np.dot(PT,P))\n",
      "    PTyy = np.dot(PT,samp.flatten())\n",
      "    avec = np.dot(PTPinv,PTyy)\n",
      "    return avec\n",
      "\n",
      "#------------------------------------------------------------\n",
      "#plotHistograms()\n",
      "#------------------------------------------------------------\n",
      "def plotHistograms(histData):\n",
      "    colors = ['b','r']\n",
      "    for i in range(10):    \n",
      "        fig0,ax0 = plt.subplots(1,10,figsize=(20,2))\n",
      "    #     fig0.subplots_adjust(0.05,-0.1,0.95,0.95)\n",
      "        fig0.canvas.set_window_title(\"Distribution of coefficients for handwritten %ds\"%i)\n",
      "        [ax0[j].hist(histData[i,j], bins=20, color=colors[j==i]) for j in range(10)]\n",
      "        [ax0[j].set_yticklabels('') for j in range(10)]\n",
      "        [ax0[j].set_xlim(-1.5,2) for j in range(10)]\n",
      "        [ax0[j].xaxis.set_ticks(np.arange(-2,3,1)) for j in range(10)]\n",
      "        [ax0[j].set_xlabel(\"Template: %d\"%j) for j in range(10)]\n",
      "    #     fig0.canvas.draw()\n",
      "        plt.tight_layout()\n",
      "\n",
      "#------------------------------------------------------------\n",
      "#getIncorrect()\n",
      "#------------------------------------------------------------\n",
      "def getIncorrect(histData):\n",
      "    incorrectSamples = [[]]*10\n",
      "    for i in range(10):\n",
      "        wrongAnswers = []\n",
      "        for j in range(500):\n",
      "            guess = argmax(histData[i,:10,j])\n",
      "            if guess != i:\n",
      "                wrongAnswers.append(guess)\n",
      "                incorrectSamples[i].append((numList[i,j],guess,i)) \n",
      "\n",
      "\n",
      "        cnts = Counter(wrongAnswers)\n",
      "        outstr = \"%0.1f%% of %d's were incorrectly identified, the most common guess for those failures was %d\"%  \\\n",
      "                    (100*(len(wrongAnswers)/500.0), i, cnts.most_common(1)[0][0])\n",
      "        print(outstr)\n",
      "    return np.array(incorrectSamples)\n",
      "\n",
      "#------------------------------------------------------------\n",
      "#getRandomPic()\n",
      "#------------------------------------------------------------\n",
      "def getRandomPic(pics):\n",
      "    num = int(np.random.uniform(0,10))\n",
      "    return pics[num,int(np.random.uniform(0,len(pics[num])))]\n",
      "    \n",
      "#------------------------------------------------------------\n",
      "#playVideo()\n",
      "#------------------------------------------------------------\n",
      "def playVideo(incorrect, videoDur=30, frameDur=1):\n",
      "    plt.close(1)\n",
      "    fig1, ax1 = plt.subplots(1,2,num=1,figsize=[10,5])\n",
      "#     fig1.subplots_adjust(0,0,1,1)\n",
      "    [axis.axis('off') for axis in ax1]\n",
      "    pic,guess,actual = getRandomPic(incorrect)\n",
      "    im11 = ax1[0].imshow(pic)\n",
      "    im12 = ax1[1].imshow(nums_avg[guess])\n",
      "    ax1[0].set_title('Handwritten %d'%actual)\n",
      "    ax1[1].set_title('Algorithm guessed %d'%guess)\n",
      "    fig1.canvas.draw()\n",
      "    \n",
      "    t0 = time.time()\n",
      "    dt = 0.0\n",
      "    while dt<videoDur:\n",
      "        pic,guess,actual = getRandomPic(incorrect)\n",
      "        im11.set_data(pic)\n",
      "        im12.set_data(nums_avg[guess])\n",
      "        ax1[0].set_title('Handwritten %d'%actual)\n",
      "        ax1[1].set_title('Algorithm guessed %d'%guess)\n",
      "        fig1.canvas.draw()\n",
      "        time.sleep(frameDur)\n",
      "        dt = time.time()-t0"
     ],
     "language": "python",
     "metadata": {},
     "outputs": [],
     "prompt_number": 221
    },
    {
     "cell_type": "code",
     "collapsed": false,
     "input": [
      "img = nd.imread('images/digits.png')\n",
      "nrow, ncol = img.shape[0:2]\n",
      "\n",
      "#crop into individual images\n",
      "nums = img.reshape(50,20,100,20).transpose(0,2,1,3).reshape(5000,20,20)\n",
      "#calculate average templates\n",
      "nums_avg = np.array([nums[i*500:(i+1)*500].mean(0) for i in range(10)])\n",
      "#group the images by the digit they represent\n",
      "numList = np.array([nums[i*500:(i+1)*500] for i in range(10)])\n",
      "#reshape the templates into matrix for regression\n",
      "avg_matrix = nums_avg.reshape(10,400)\n",
      "#add on a bunch of ones as our constant\n",
      "avg_matrix = np.vstack((avg_matrix, np.ones((1,400))) )\n",
      "\n",
      "#populate the histogram data\n",
      "histData = np.ndarray((10,10,500))\n",
      "for i in range(10):\n",
      "    #for each picture representing that digit\n",
      "    for j,pic in enumerate(numList[i]):\n",
      "        coeffs = getCoeffsOLS(avg_matrix,pic)\n",
      "        histData[i,:,j] = coeffs[:10]"
     ],
     "language": "python",
     "metadata": {},
     "outputs": [],
     "prompt_number": 226
    },
    {
     "cell_type": "code",
     "collapsed": false,
     "input": [
      "#display histograms\n",
      "plotHistograms(histData)\n",
      "print histData[0,:,0]\n",
      "incorrectSamples = getIncorrect(histData)\n",
      "playVideo(incorrectSamples)"
     ],
     "language": "python",
     "metadata": {},
     "outputs": [
      {
       "output_type": "stream",
       "stream": "stdout",
       "text": [
        "[ 1.29396002  0.32802325 -0.20271234 -0.1521015  -0.27456075  0.03899879\n",
        "  0.0526082  -0.07635338 -0.16233814  0.26099163]\n",
        "28.0% of 0's were incorrectly identified, the most common guess for those failures was 5\n",
        "6.2% of 1's were incorrectly identified, the most common guess for those failures was 5\n",
        "34.8% of 2's were incorrectly identified, the most common guess for those failures was 3\n",
        "27.4% of 3's were incorrectly identified, the most common guess for those failures was 9\n",
        "23.8% of 4's were incorrectly identified, the most common guess for those failures was 9\n",
        "38.6% of 5's were incorrectly identified, the most common guess for those failures was 3\n",
        "18.6% of 6's were incorrectly identified, the most common guess for those failures was 5"
       ]
      },
      {
       "output_type": "stream",
       "stream": "stdout",
       "text": [
        "\n",
        "24.4% of 7's were incorrectly identified, the most common guess for those failures was 9\n",
        "29.6% of 8's were incorrectly identified, the most common guess for those failures was 3\n",
        "19.4% of 9's were incorrectly identified, the most common guess for those failures was 4\n"
       ]
      }
     ],
     "prompt_number": 227
    },
    {
     "cell_type": "code",
     "collapsed": false,
     "input": [
      "#recalculate using the constant row\n",
      "histData = np.ndarray((10,11,500))\n",
      "for i in range(10):\n",
      "    #for each picture representing that digit\n",
      "    for j,pic in enumerate(numList[i]):\n",
      "        coeffs = getCoeffsOLS(avg_matrix,pic)\n",
      "        histData[i,:,j] = coeffs[:]"
     ],
     "language": "python",
     "metadata": {},
     "outputs": [],
     "prompt_number": 228
    },
    {
     "cell_type": "code",
     "collapsed": false,
     "input": [
      "print('Removing zero point offset')\n",
      "adjustedIncorrect = getIncorrect(histData)"
     ],
     "language": "python",
     "metadata": {},
     "outputs": [
      {
       "output_type": "stream",
       "stream": "stdout",
       "text": [
        "28.0% of 0's were incorrectly identified, the most common guess for those failures was 5\n",
        "6.2% of 1's were incorrectly identified, the most common guess for those failures was 5\n",
        "34.8% of 2's were incorrectly identified, the most common guess for those failures was 3\n",
        "27.4% of 3's were incorrectly identified, the most common guess for those failures was 9\n",
        "23.8% of 4's were incorrectly identified, the most common guess for those failures was 9\n",
        "38.6% of 5's were incorrectly identified, the most common guess for those failures was 3\n",
        "18.6% of 6's were incorrectly identified, the most common guess for those failures was 5\n",
        "24.4% of 7's were incorrectly identified, the most common guess for those failures was 9\n",
        "29.6% of 8's were incorrectly identified, the most common guess for those failures was 3\n",
        "19.4% of 9's were incorrectly identified, the most common guess for those failures was 4\n"
       ]
      }
     ],
     "prompt_number": 236
    },
    {
     "cell_type": "markdown",
     "metadata": {},
     "source": [
      "---"
     ]
    }
   ],
   "metadata": {}
  }
 ]
}